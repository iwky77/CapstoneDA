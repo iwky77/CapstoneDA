{
 "cells": [
  {
   "cell_type": "markdown",
   "metadata": {},
   "source": [
    "# Capstone Webscrapping using BeautifulSoup\n",
    "\n",
    "This report will try to excavate information using web scrapping method using one of Python's library called beautifulsoup. Web scrapping is one of a method that can be used to collect certain data from various sources on internet. This report will use data from www.exchange-rates.org where it contains a table of historical exchange rates between the Indonesian Rupiah (IDR) and the US Dollar (USD) within certain period of time.\n"
   ]
  },
  {
   "cell_type": "code",
   "execution_count": 1,
   "metadata": {},
   "outputs": [],
   "source": [
    "import pandas as pd\n",
    "import requests\n",
    "from bs4 import BeautifulSoup\n",
    "import matplotlib\n",
    "import matplotlib.pyplot as plt\n",
    "from flask import Flask, render_template\n",
    "from io import BytesIO\n",
    "import base64\n"
   ]
  },
  {
   "cell_type": "markdown",
   "metadata": {},
   "source": [
    "\n",
    "## Requesting the Data and Creating a BeautifulSoup\n",
    "\n",
    "Getting the information from the web with `get` method."
   ]
  },
  {
   "cell_type": "code",
   "execution_count": 2,
   "metadata": {
    "ExecuteTime": {
     "end_time": "2020-01-13T05:12:23.275508Z",
     "start_time": "2020-01-13T05:12:20.009898Z"
    }
   },
   "outputs": [],
   "source": [
    "url_get = requests.get('https://www.exchange-rates.org/history/IDR/USD/T')\n"
   ]
  },
  {
   "cell_type": "markdown",
   "metadata": {},
   "source": [
    "Confirming information gahtered from the web/ url:"
   ]
  },
  {
   "cell_type": "code",
   "execution_count": 3,
   "metadata": {
    "ExecuteTime": {
     "end_time": "2020-01-13T05:12:23.290648Z",
     "start_time": "2020-01-13T05:12:23.277650Z"
    }
   },
   "outputs": [
    {
     "data": {
      "text/plain": [
       "b'\\n<!DOCTYPE html>\\r\\n<!--[if lt IE 9]>\\r\\n    <html class=\"no-js ie8 oldie\" lang=\\'en\\' xml:lang=\\'en\\'>\\r\\n<![endif]-->\\r\\n<!--[if gt IE 8]><!--> <html class=\"no-js\" lang=\\'en\\' xml:lang=\\'en\\'> <!--<![endif]-->\\r\\n<head><title>Indonesian Rupiah Exchange Rate - US Dollar - Historical Exchange Rates</title>\\n<meta http-equiv=\"X-UA-Compatible\" content=\"IE=edge\">\\n<meta content=\"C#\" name=\"CODE_LANGUAGE\" />\\n<meta content=\"JavaScript\" name=\"vs_defaultClientScript\" />\\n<meta content=\"http://schemas.microsoft.com/intellisense/ie5\" name=\"vs_targetSchema\" />\\n<meta name=\"viewport\" content=\"width=device-width, initial-scale=1, maximum-scale=5\">\\n<meta http-equiv=\"Content-Type\" content=\"text/html; charset=utf-8\" />\\n\\n<meta name=\"mapping\" content=\"AP\" />\\n<base href=\"https://www.exchange-rates.org/\" />\\n<link rel=\"dns-prefetch\" href=\"https://ajax.googleapis.com/\" />\\r\\n<link rel=\"dns-prefetch\" href=\"https://www.google-analytics.com/\" />\\r\\n<link rel=\"preload\" href=\"https://dol8qrceshfrq.cloudfront.net/cache/2020-03-18-01-05-58/img/bgr-pattern.png\" as=\"image\" type=\"image/png\">\\r\\n<link rel=\"preload\" href=\"https://dol8qrceshfrq.cloudfront.net/cache/2020-03-18-01-05-58/img/logo.svg\" as=\"image\" type=\"image/svg+xml\">\\r\\n<link rel=\"preload\" href=\"https://dol8qrceshfrq.cloudfront.net/cache/2020-03-18-01-05-58/img/logo-footer.svg\" as=\"image\" type=\"image/svg+xml\">\\r\\n<link rel=\"canonical\" href=\"https://www.exchange-rates.org/history/IDR/USD/T\" />\\n<link rel=\"shortcut icon\" href=\"https://dol8qrceshfrq.cloudfront.net/cache/2020-03-18'"
      ]
     },
     "execution_count": 3,
     "metadata": {},
     "output_type": "execute_result"
    }
   ],
   "source": [
    "url_get.content[1:1500]\n"
   ]
  },
  {
   "cell_type": "markdown",
   "metadata": {},
   "source": [
    "Transform a complex HTML document into a complex tree of Python objects using BeautifulSoup: \n"
   ]
  },
  {
   "cell_type": "code",
   "execution_count": 4,
   "metadata": {
    "ExecuteTime": {
     "end_time": "2020-01-13T05:12:23.808122Z",
     "start_time": "2020-01-13T05:12:23.292610Z"
    },
    "scrolled": true
   },
   "outputs": [
    {
     "name": "stdout",
     "output_type": "stream",
     "text": [
      "<class 'bs4.BeautifulSoup'>\n"
     ]
    }
   ],
   "source": [
    "from bs4 import BeautifulSoup \n",
    "\n",
    "soup = BeautifulSoup(url_get.content,\"html.parser\")\n",
    "print(type(soup))\n"
   ]
  },
  {
   "cell_type": "markdown",
   "metadata": {},
   "source": [
    "Printing BeautifulSoup result:"
   ]
  },
  {
   "cell_type": "code",
   "execution_count": 5,
   "metadata": {},
   "outputs": [
    {
     "name": "stdout",
     "output_type": "stream",
     "text": [
      "<!DOCTYPE html>\n",
      "<!--[if lt IE 9]>\r\n",
      "    <html class=\"no-js ie8 oldie\" lang='en' xml:lang='en'>\r\n",
      "<![endif]-->\n",
      "<!--[if gt IE 8]><!-->\n",
      "<html class=\"no-js\" lang=\"en\" xml:lang=\"en\">\n",
      " <!--<![endif]-->\n",
      " <head>\n",
      "  <title>\n",
      "   Indonesian Rupiah Exchange Rate - US Dollar - Historical Exchange Rates\n",
      "  </title>\n",
      "  <meta content=\"IE=edge\" http-equiv=\"X-UA-Compatible\"/>\n",
      "  <meta content=\"C#\" name=\"CODE_LANGUAGE\">\n",
      "   <meta content=\"JavaScript\" name=\"vs_defaultClientScript\"/>\n",
      "   <meta content=\"http://schemas.microsoft.com/intellisense/ie5\" name=\"vs_targetSchema\"/>\n",
      "   <meta content=\"width=device-width, initial-scale=1, maximum-scale=5\" name=\"viewport\"/>\n",
      "   <meta content=\"text/html; charset=utf-8\" http-equiv=\"Content-Type\">\n",
      "    <meta content=\"AP\" name=\"mapping\"/>\n",
      "    <base href=\"https://www.exchange-rates.org/\"/>\n",
      "    <link href=\"https://ajax.googleapis.com/\" rel=\"dns-prefetch\"/>\n",
      "    <link href=\"https://www.google-analytics.com/\" rel=\"dns-prefetch\"/>\n",
      "    <link as=\"image\" href=\"https://dol8qrceshfrq.cloudfront.net/cache/2020-03-18-01-05-58/img/bgr-pattern.png\" rel=\"preload\" type=\"image/png\"/>\n",
      "    <link as=\"image\" href=\"https://dol8qrceshfrq.cloudfront.net/cache/2020-03-18-01-05-58/img/logo.svg\" rel=\"preload\" type=\"image/svg+xml\"/>\n",
      "    <link as=\"image\" href=\"https://dol8qrceshfrq.cloudfront.net/cache/2020-03-18-01-05-58/img/logo-footer.svg\" rel=\"preload\" type=\"image/svg+xml\"/>\n",
      "    <link href=\"https://www.exchange-rates.org/history/IDR/USD/T\" rel=\"canonical\">\n",
      "     <link href=\"https://dol8qrceshfrq.clou\n"
     ]
    }
   ],
   "source": [
    "print(soup.prettify()[:1500])\n"
   ]
  },
  {
   "cell_type": "markdown",
   "metadata": {},
   "source": [
    "## Getting right key to extract right information"
   ]
  },
  {
   "cell_type": "markdown",
   "metadata": {},
   "source": [
    "Finding the key and put the key into the `.find()` to ensure right information has been gathered:"
   ]
  },
  {
   "cell_type": "markdown",
   "metadata": {},
   "source": [
    "### Table Body (tbody)"
   ]
  },
  {
   "cell_type": "code",
   "execution_count": 6,
   "metadata": {
    "ExecuteTime": {
     "end_time": "2020-01-13T05:12:23.878904Z",
     "start_time": "2020-01-13T05:12:23.854974Z"
    },
    "scrolled": true
   },
   "outputs": [
    {
     "name": "stdout",
     "output_type": "stream",
     "text": [
      "table class=\"table table-striped table-hover table-hover-solid-row table-simple history-data\">\n",
      " <tbody>\n",
      "  <tr>\n",
      "   <td>\n",
      "    7/7/2021\n",
      "   </td>\n",
      "   <td>\n",
      "    Wednesday\n",
      "   </td>\n",
      "   <td>\n",
      "    <a href=\"/Rate/USD/IDR/7-7-2021\">\n",
      "     14,503.93654\n",
      "    </a>\n",
      "    IDR\n",
      "   </td>\n",
      "   <td class=\"text-narrow-screen-hidden\">\n",
      "    <a href=\"/Rate/USD/IDR/7-7-2021\">\n",
      "     USD IDR rate for 7/7/2021\n",
      "    </a>\n",
      "   </td>\n",
      "  </tr>\n",
      "  <tr>\n",
      "   <td>\n",
      "    7/6/2021\n",
      "   </td>\n",
      "   <td>\n",
      "    Tuesday\n",
      "   </td>\n",
      "   <td>\n",
      "    <a href=\"/Rate/USD/IDR/7-6-2021\">\n",
      "     14,469.58258\n",
      "    </a>\n",
      "    IDR\n",
      "   </td>\n",
      "   <td class=\"text-narrow-screen-hidden\">\n",
      "    <a href=\"/Rate/USD/IDR/7-6-2021\">\n",
      "     USD IDR rate for 7/6/2021\n",
      "    </a>\n",
      "   </td>\n",
      "  </tr>\n",
      "  <tr>\n",
      "   <td>\n",
      "    7/5/2021\n",
      "   </td>\n",
      "   <td>\n",
      "    Monday\n",
      "   </td>\n",
      "   <td>\n",
      "    <a href=\"/Rate/USD/IDR/7-5-2021\">\n",
      "     14,493.33968\n",
      "    </a>\n",
      "    IDR\n",
      "   </td>\n",
      "   <td class=\"text-narrow-screen-hidden\">\n",
      "    <a href=\"/Rate/USD/IDR/7-5-2021\">\n",
      "     USD IDR rate for 7/5/2021\n",
      "    </a>\n",
      "   </td>\n",
      "  </tr>\n",
      "  <tr>\n",
      "   <td>\n",
      "    7/2/2021\n",
      "   </td>\n",
      "   <td>\n",
      "    Friday\n",
      "   </td>\n",
      "   <td>\n",
      "    <a href=\"/Rate/USD/IDR/7-2-2021\">\n",
      "     14,497.65100\n",
      "    </a>\n",
      "    IDR\n",
      "   </td>\n",
      "   <td class=\"text-narrow-screen-hidden\">\n",
      "    <a href=\"/Rate/USD/IDR/7-2-2021\">\n",
      "     USD IDR rate for 7/2/2021\n",
      "    </a>\n",
      "   </td>\n",
      "  </tr>\n",
      "  <tr>\n",
      "   <td>\n",
      "    7/1/2021\n",
      "   </td>\n",
      "   <td>\n",
      "    Thursday\n",
      "   </td>\n",
      "   <td>\n",
      "    <a href=\"/Rate/USD/IDR/7-1-2021\">\n",
      "     13,270.37815\n",
      "    </a>\n",
      "    IDR\n",
      "   </td>\n",
      "   <td class=\"text-narrow-screen-hidden\">\n",
      "    <a href=\"/Rate/USD/I\n"
     ]
    }
   ],
   "source": [
    "table = soup.find('table', attrs={'class':'table table-striped table-hover table-hover-solid-row table-simple history-data'})\n",
    "print(table.prettify()[1:1500])\n"
   ]
  },
  {
   "cell_type": "markdown",
   "metadata": {},
   "source": [
    "The information gathered consists of a table where its contents is further defined as 'tr - similar to the division' and 'td - similar to section' in the HTML document. It is easily styled by using the class or id attribute, Any sort of content can be put inside these 'tr' and 'td' tag.\n",
    "\n",
    "Initial observation indicated that there are 3 kinds of information can be gathered: Date, Day,Rates, and Additional Information.\n"
   ]
  },
  {
   "cell_type": "markdown",
   "metadata": {},
   "source": [
    "### TR"
   ]
  },
  {
   "cell_type": "code",
   "execution_count": 7,
   "metadata": {
    "scrolled": true
   },
   "outputs": [
    {
     "data": {
      "text/plain": [
       "[<tr><td>7/7/2021</td><td>Wednesday</td><td><a href=\"/Rate/USD/IDR/7-7-2021\">14,503.93654</a> IDR</td><td class=\"text-narrow-screen-hidden\"><a href=\"/Rate/USD/IDR/7-7-2021\">USD IDR rate for 7/7/2021</a></td></tr>,\n",
       " <tr><td>7/6/2021</td><td>Tuesday</td><td><a href=\"/Rate/USD/IDR/7-6-2021\">14,469.58258</a> IDR</td><td class=\"text-narrow-screen-hidden\"><a href=\"/Rate/USD/IDR/7-6-2021\">USD IDR rate for 7/6/2021</a></td></tr>,\n",
       " <tr><td>7/5/2021</td><td>Monday</td><td><a href=\"/Rate/USD/IDR/7-5-2021\">14,493.33968</a> IDR</td><td class=\"text-narrow-screen-hidden\"><a href=\"/Rate/USD/IDR/7-5-2021\">USD IDR rate for 7/5/2021</a></td></tr>,\n",
       " <tr><td>7/2/2021</td><td>Friday</td><td><a href=\"/Rate/USD/IDR/7-2-2021\">14,497.65100</a> IDR</td><td class=\"text-narrow-screen-hidden\"><a href=\"/Rate/USD/IDR/7-2-2021\">USD IDR rate for 7/2/2021</a></td></tr>,\n",
       " <tr><td>7/1/2021</td><td>Thursday</td><td><a href=\"/Rate/USD/IDR/7-1-2021\">13,270.37815</a> IDR</td><td class=\"text-narrow-screen-hidden\"><a href=\"/Rate/USD/IDR/7-1-2021\">USD IDR rate for 7/1/2021</a></td></tr>]"
      ]
     },
     "execution_count": 7,
     "metadata": {},
     "output_type": "execute_result"
    }
   ],
   "source": [
    "tr = table.find_all('tr')\n",
    "tr[:5]\n"
   ]
  },
  {
   "cell_type": "markdown",
   "metadata": {},
   "source": [
    "### TD"
   ]
  },
  {
   "cell_type": "code",
   "execution_count": 8,
   "metadata": {},
   "outputs": [
    {
     "data": {
      "text/plain": [
       "[<td>7/7/2021</td>,\n",
       " <td>Wednesday</td>,\n",
       " <td><a href=\"/Rate/USD/IDR/7-7-2021\">14,503.93654</a> IDR</td>,\n",
       " <td class=\"text-narrow-screen-hidden\"><a href=\"/Rate/USD/IDR/7-7-2021\">USD IDR rate for 7/7/2021</a></td>,\n",
       " <td>7/6/2021</td>]"
      ]
     },
     "execution_count": 8,
     "metadata": {},
     "output_type": "execute_result"
    }
   ],
   "source": [
    "td = table.find_all('td')\n",
    "td[:5]\n"
   ]
  },
  {
   "cell_type": "markdown",
   "metadata": {},
   "source": [
    "### A - H-Ref"
   ]
  },
  {
   "cell_type": "code",
   "execution_count": 9,
   "metadata": {},
   "outputs": [
    {
     "data": {
      "text/plain": [
       "[<a href=\"/Rate/USD/IDR/7-7-2021\">14,503.93654</a>,\n",
       " <a href=\"/Rate/USD/IDR/7-7-2021\">USD IDR rate for 7/7/2021</a>,\n",
       " <a href=\"/Rate/USD/IDR/7-6-2021\">14,469.58258</a>,\n",
       " <a href=\"/Rate/USD/IDR/7-6-2021\">USD IDR rate for 7/6/2021</a>,\n",
       " <a href=\"/Rate/USD/IDR/7-5-2021\">14,493.33968</a>]"
      ]
     },
     "execution_count": 9,
     "metadata": {},
     "output_type": "execute_result"
    }
   ],
   "source": [
    "a = table.find_all('a')\n",
    "a[:5]\n"
   ]
  },
  {
   "cell_type": "markdown",
   "metadata": {},
   "source": [
    "## Scapping Process"
   ]
  },
  {
   "cell_type": "markdown",
   "metadata": {},
   "source": [
    "These are actions that will be taken when conducting looping process to scrap the information from the tbody:\n",
    "- Establish a placeholder to receive the information that we scrap.\n",
    "- Create a temporary placeholder temp.\n",
    "- Execute loop process from one until the the length of the table row,\n",
    "- Append  result to tuple.\n"
   ]
  },
  {
   "cell_type": "code",
   "execution_count": 10,
   "metadata": {
    "ExecuteTime": {
     "end_time": "2020-01-13T05:12:24.008256Z",
     "start_time": "2020-01-13T05:12:23.980358Z"
    }
   },
   "outputs": [
    {
     "data": {
      "text/plain": [
       "[('7/7/2021', 'Wednesday', '14,503.93654 IDR', 'USD IDR rate for 7/7/2021'),\n",
       " ('7/6/2021', 'Tuesday', '14,469.58258 IDR', 'USD IDR rate for 7/6/2021'),\n",
       " ('7/5/2021', 'Monday', '14,493.33968 IDR', 'USD IDR rate for 7/5/2021'),\n",
       " ('7/2/2021', 'Friday', '14,497.65100 IDR', 'USD IDR rate for 7/2/2021'),\n",
       " ('7/1/2021', 'Thursday', '13,270.37815 IDR', 'USD IDR rate for 7/1/2021'),\n",
       " ('6/30/2021', 'Wednesday', '14,491.89811 IDR', 'USD IDR rate for 6/30/2021'),\n",
       " ('6/29/2021', 'Tuesday', '13,215.84052 IDR', 'USD IDR rate for 6/29/2021'),\n",
       " ('6/28/2021', 'Monday', '14,439.22236 IDR', 'USD IDR rate for 6/28/2021'),\n",
       " ('6/25/2021', 'Friday', '14,426.82283 IDR', 'USD IDR rate for 6/25/2021'),\n",
       " ('6/24/2021', 'Thursday', '14,436.21247 IDR', 'USD IDR rate for 6/24/2021'),\n",
       " ('6/23/2021', 'Wednesday', '14,440.32729 IDR', 'USD IDR rate for 6/23/2021'),\n",
       " ('6/22/2021', 'Tuesday', '14,396.08712 IDR', 'USD IDR rate for 6/22/2021'),\n",
       " ('6/22/2021', 'Tuesday', '14,396.08712 IDR', 'USD IDR rate for 6/22/2021'),\n",
       " ('6/21/2021', 'Monday', '14,426.42481 IDR', 'USD IDR rate for 6/21/2021'),\n",
       " ('6/18/2021', 'Friday', '14,440.13691 IDR', 'USD IDR rate for 6/18/2021'),\n",
       " ('6/17/2021', 'Thursday', '14,383.75138 IDR', 'USD IDR rate for 6/17/2021'),\n",
       " ('6/16/2021', 'Wednesday', '14,376.12040 IDR', 'USD IDR rate for 6/16/2021'),\n",
       " ('6/15/2021', 'Tuesday', '14,205.14512 IDR', 'USD IDR rate for 6/15/2021'),\n",
       " ('6/14/2021', 'Monday', '14,205.68458 IDR', 'USD IDR rate for 6/14/2021'),\n",
       " ('6/11/2021', 'Friday', '14,241.97728 IDR', 'USD IDR rate for 6/11/2021'),\n",
       " ('6/10/2021', 'Thursday', '14,262.89225 IDR', 'USD IDR rate for 6/10/2021'),\n",
       " ('6/9/2021', 'Wednesday', '14,258.61758 IDR', 'USD IDR rate for 6/9/2021'),\n",
       " ('6/8/2021', 'Tuesday', '14,256.29978 IDR', 'USD IDR rate for 6/8/2021'),\n",
       " ('6/7/2021', 'Monday', '14,222.58206 IDR', 'USD IDR rate for 6/7/2021'),\n",
       " ('6/4/2021', 'Friday', '14,227.49966 IDR', 'USD IDR rate for 6/4/2021'),\n",
       " ('6/3/2021', 'Thursday', '14,353.54834 IDR', 'USD IDR rate for 6/3/2021'),\n",
       " ('6/2/2021', 'Wednesday', '14,276.29774 IDR', 'USD IDR rate for 6/2/2021'),\n",
       " ('6/1/2021', 'Tuesday', '14,274.83728 IDR', 'USD IDR rate for 6/1/2021'),\n",
       " ('5/31/2021', 'Monday', '14,238.06947 IDR', 'USD IDR rate for 5/31/2021'),\n",
       " ('5/28/2021', 'Friday', '14,283.54665 IDR', 'USD IDR rate for 5/28/2021'),\n",
       " ('5/27/2021', 'Thursday', '14,326.24811 IDR', 'USD IDR rate for 5/27/2021'),\n",
       " ('5/26/2021', 'Wednesday', '14,326.06920 IDR', 'USD IDR rate for 5/26/2021'),\n",
       " ('5/25/2021', 'Tuesday', '14,310.90309 IDR', 'USD IDR rate for 5/25/2021'),\n",
       " ('5/24/2021', 'Monday', '14,352.31470 IDR', 'USD IDR rate for 5/24/2021'),\n",
       " ('5/21/2021', 'Friday', '14,401.13572 IDR', 'USD IDR rate for 5/21/2021'),\n",
       " ('5/20/2021', 'Thursday', '14,362.81181 IDR', 'USD IDR rate for 5/20/2021'),\n",
       " ('5/20/2021', 'Thursday', '14,362.81181 IDR', 'USD IDR rate for 5/20/2021'),\n",
       " ('5/19/2021', 'Wednesday', '14,270.34468 IDR', 'USD IDR rate for 5/19/2021'),\n",
       " ('5/18/2021', 'Tuesday', '14,263.79544 IDR', 'USD IDR rate for 5/18/2021'),\n",
       " ('5/17/2021', 'Monday', '14,113.45630 IDR', 'USD IDR rate for 5/17/2021'),\n",
       " ('5/14/2021', 'Friday', '14,122.81112 IDR', 'USD IDR rate for 5/14/2021'),\n",
       " ('5/13/2021', 'Thursday', '14,185.45666 IDR', 'USD IDR rate for 5/13/2021'),\n",
       " ('5/12/2021', 'Wednesday', '14,198.91195 IDR', 'USD IDR rate for 5/12/2021'),\n",
       " ('5/11/2021', 'Tuesday', '14,197.76931 IDR', 'USD IDR rate for 5/11/2021'),\n",
       " ('5/10/2021', 'Monday', '14,214.65659 IDR', 'USD IDR rate for 5/10/2021'),\n",
       " ('5/7/2021', 'Friday', '14,278.55213 IDR', 'USD IDR rate for 5/7/2021'),\n",
       " ('5/6/2021', 'Thursday', '14,302.00704 IDR', 'USD IDR rate for 5/6/2021'),\n",
       " ('5/5/2021', 'Wednesday', '14,422.43566 IDR', 'USD IDR rate for 5/5/2021'),\n",
       " ('5/4/2021', 'Tuesday', '14,424.14155 IDR', 'USD IDR rate for 5/4/2021'),\n",
       " ('5/3/2021', 'Monday', '14,436.81882 IDR', 'USD IDR rate for 5/3/2021'),\n",
       " ('4/30/2021', 'Friday', '14,444.45616 IDR', 'USD IDR rate for 4/30/2021'),\n",
       " ('4/29/2021', 'Thursday', '14,487.67389 IDR', 'USD IDR rate for 4/29/2021'),\n",
       " ('4/28/2021', 'Wednesday', '14,430.69637 IDR', 'USD IDR rate for 4/28/2021'),\n",
       " ('4/27/2021', 'Tuesday', '14,472.65266 IDR', 'USD IDR rate for 4/27/2021'),\n",
       " ('4/26/2021', 'Monday', '14,509.39683 IDR', 'USD IDR rate for 4/26/2021'),\n",
       " ('4/23/2021', 'Friday', '14,496.38365 IDR', 'USD IDR rate for 4/23/2021'),\n",
       " ('4/22/2021', 'Thursday', '14,512.83503 IDR', 'USD IDR rate for 4/22/2021'),\n",
       " ('4/21/2021', 'Wednesday', '14,502.26090 IDR', 'USD IDR rate for 4/21/2021'),\n",
       " ('4/20/2021', 'Tuesday', '14,502.50189 IDR', 'USD IDR rate for 4/20/2021'),\n",
       " ('4/19/2021', 'Monday', '14,546.21674 IDR', 'USD IDR rate for 4/19/2021'),\n",
       " ('4/16/2021', 'Friday', '14,555.47086 IDR', 'USD IDR rate for 4/16/2021'),\n",
       " ('4/15/2021', 'Thursday', '14,606.52845 IDR', 'USD IDR rate for 4/15/2021'),\n",
       " ('4/14/2021', 'Wednesday', '14,558.27832 IDR', 'USD IDR rate for 4/14/2021'),\n",
       " ('4/13/2021', 'Tuesday', '14,591.89923 IDR', 'USD IDR rate for 4/13/2021'),\n",
       " ('4/12/2021', 'Monday', '14,342.37375 IDR', 'USD IDR rate for 4/12/2021'),\n",
       " ('4/9/2021', 'Friday', '14,545.59599 IDR', 'USD IDR rate for 4/9/2021'),\n",
       " ('4/8/2021', 'Thursday', '14,470.71219 IDR', 'USD IDR rate for 4/8/2021'),\n",
       " ('4/7/2021', 'Wednesday', '14,522.66559 IDR', 'USD IDR rate for 4/7/2021'),\n",
       " ('4/6/2021', 'Tuesday', '14,426.44421 IDR', 'USD IDR rate for 4/6/2021'),\n",
       " ('4/5/2021', 'Monday', '14,431.06530 IDR', 'USD IDR rate for 4/5/2021'),\n",
       " ('4/2/2021', 'Friday', '14,525.77118 IDR', 'USD IDR rate for 4/2/2021'),\n",
       " ('4/1/2021', 'Thursday', '14,471.67828 IDR', 'USD IDR rate for 4/1/2021'),\n",
       " ('3/31/2021', 'Wednesday', '14,531.83272 IDR', 'USD IDR rate for 3/31/2021'),\n",
       " ('3/30/2021', 'Tuesday', '14,471.20821 IDR', 'USD IDR rate for 3/30/2021'),\n",
       " ('3/29/2021', 'Monday', '14,418.46962 IDR', 'USD IDR rate for 3/29/2021'),\n",
       " ('3/26/2021', 'Friday', '14,348.53269 IDR', 'USD IDR rate for 3/26/2021'),\n",
       " ('3/25/2021', 'Thursday', '14,430.27484 IDR', 'USD IDR rate for 3/25/2021'),\n",
       " ('3/24/2021', 'Wednesday', '14,440.74305 IDR', 'USD IDR rate for 3/24/2021'),\n",
       " ('3/23/2021', 'Tuesday', '14,414.95309 IDR', 'USD IDR rate for 3/23/2021'),\n",
       " ('3/22/2021', 'Monday', '14,378.72677 IDR', 'USD IDR rate for 3/22/2021'),\n",
       " ('3/19/2021', 'Friday', '14,409.66972 IDR', 'USD IDR rate for 3/19/2021'),\n",
       " ('3/18/2021', 'Thursday', '14,423.29934 IDR', 'USD IDR rate for 3/18/2021'),\n",
       " ('3/17/2021', 'Wednesday', '14,346.28612 IDR', 'USD IDR rate for 3/17/2021'),\n",
       " ('3/16/2021', 'Tuesday', '14,407.76927 IDR', 'USD IDR rate for 3/16/2021'),\n",
       " ('3/15/2021', 'Monday', '14,423.68150 IDR', 'USD IDR rate for 3/15/2021'),\n",
       " ('3/12/2021', 'Friday', '14,393.57497 IDR', 'USD IDR rate for 3/12/2021'),\n",
       " ('3/11/2021', 'Thursday', '14,319.87571 IDR', 'USD IDR rate for 3/11/2021'),\n",
       " ('3/10/2021', 'Wednesday', '14,387.89293 IDR', 'USD IDR rate for 3/10/2021'),\n",
       " ('3/9/2021', 'Tuesday', '14,396.25662 IDR', 'USD IDR rate for 3/9/2021'),\n",
       " ('3/8/2021', 'Monday', '14,374.33106 IDR', 'USD IDR rate for 3/8/2021'),\n",
       " ('3/5/2021', 'Friday', '14,292.17893 IDR', 'USD IDR rate for 3/5/2021'),\n",
       " ('3/4/2021', 'Thursday', '14,261.85426 IDR', 'USD IDR rate for 3/4/2021'),\n",
       " ('3/3/2021', 'Wednesday', '14,257.29443 IDR', 'USD IDR rate for 3/3/2021'),\n",
       " ('3/2/2021', 'Tuesday', '14,256.28041 IDR', 'USD IDR rate for 3/2/2021'),\n",
       " ('3/1/2021', 'Monday', '14,248.60576 IDR', 'USD IDR rate for 3/1/2021'),\n",
       " ('2/26/2021', 'Friday', '14,300.27815 IDR', 'USD IDR rate for 2/26/2021'),\n",
       " ('2/25/2021', 'Thursday', '14,139.73096 IDR', 'USD IDR rate for 2/25/2021'),\n",
       " ('2/24/2021', 'Wednesday', '14,083.03673 IDR', 'USD IDR rate for 2/24/2021'),\n",
       " ('2/23/2021', 'Tuesday', '14,092.64503 IDR', 'USD IDR rate for 2/23/2021'),\n",
       " ('2/22/2021', 'Monday', '14,118.07274 IDR', 'USD IDR rate for 2/22/2021'),\n",
       " ('2/19/2021', 'Friday', '14,066.79375 IDR', 'USD IDR rate for 2/19/2021'),\n",
       " ('2/18/2021', 'Thursday', '14,013.51318 IDR', 'USD IDR rate for 2/18/2021'),\n",
       " ('2/17/2021', 'Wednesday', '14,015.16095 IDR', 'USD IDR rate for 2/17/2021'),\n",
       " ('2/16/2021', 'Tuesday', '13,935.96629 IDR', 'USD IDR rate for 2/16/2021'),\n",
       " ('2/15/2021', 'Monday', '13,918.18725 IDR', 'USD IDR rate for 2/15/2021'),\n",
       " ('2/12/2021', 'Friday', '13,988.54710 IDR', 'USD IDR rate for 2/12/2021'),\n",
       " ('2/11/2021', 'Thursday', '13,982.27900 IDR', 'USD IDR rate for 2/11/2021'),\n",
       " ('2/10/2021', 'Wednesday', '13,994.09212 IDR', 'USD IDR rate for 2/10/2021'),\n",
       " ('2/9/2021', 'Tuesday', '13,920.52018 IDR', 'USD IDR rate for 2/9/2021'),\n",
       " ('2/8/2021', 'Monday', '14,007.25257 IDR', 'USD IDR rate for 2/8/2021'),\n",
       " ('2/5/2021', 'Friday', '14,008.99630 IDR', 'USD IDR rate for 2/5/2021'),\n",
       " ('2/4/2021', 'Thursday', '14,020.87878 IDR', 'USD IDR rate for 2/4/2021'),\n",
       " ('2/3/2021', 'Wednesday', '13,997.60682 IDR', 'USD IDR rate for 2/3/2021'),\n",
       " ('2/2/2021', 'Tuesday', '14,004.60175 IDR', 'USD IDR rate for 2/2/2021'),\n",
       " ('2/1/2021', 'Monday', '14,025.27450 IDR', 'USD IDR rate for 2/1/2021'),\n",
       " ('1/29/2021', 'Friday', '14,027.32457 IDR', 'USD IDR rate for 1/29/2021'),\n",
       " ('1/28/2021', 'Thursday', '14,048.06146 IDR', 'USD IDR rate for 1/28/2021'),\n",
       " ('1/27/2021', 'Wednesday', '14,048.72649 IDR', 'USD IDR rate for 1/27/2021'),\n",
       " ('1/26/2021', 'Tuesday', '14,062.91108 IDR', 'USD IDR rate for 1/26/2021'),\n",
       " ('1/25/2021', 'Monday', '14,021.11609 IDR', 'USD IDR rate for 1/25/2021'),\n",
       " ('1/22/2021', 'Friday', '14,025.60268 IDR', 'USD IDR rate for 1/22/2021'),\n",
       " ('1/21/2021', 'Thursday', '13,964.91920 IDR', 'USD IDR rate for 1/21/2021'),\n",
       " ('1/20/2021', 'Wednesday', '14,021.43046 IDR', 'USD IDR rate for 1/20/2021'),\n",
       " ('1/19/2021', 'Tuesday', '14,063.60877 IDR', 'USD IDR rate for 1/19/2021'),\n",
       " ('1/18/2021', 'Monday', '14,055.43768 IDR', 'USD IDR rate for 1/18/2021'),\n",
       " ('1/15/2021', 'Friday', '14,153.46654 IDR', 'USD IDR rate for 1/15/2021'),\n",
       " ('1/14/2021', 'Thursday', '14,070.58746 IDR', 'USD IDR rate for 1/14/2021'),\n",
       " ('1/13/2021', 'Wednesday', '14,125.90174 IDR', 'USD IDR rate for 1/13/2021'),\n",
       " ('1/12/2021', 'Tuesday', '14,074.81444 IDR', 'USD IDR rate for 1/12/2021'),\n",
       " ('1/11/2021', 'Monday', '14,137.24151 IDR', 'USD IDR rate for 1/11/2021'),\n",
       " ('1/8/2021', 'Friday', '13,991.16348 IDR', 'USD IDR rate for 1/8/2021')]"
      ]
     },
     "execution_count": 10,
     "metadata": {},
     "output_type": "execute_result"
    }
   ],
   "source": [
    "temp = [] #initiating a tuple\n",
    "        \n",
    "for i in range(0, len(tr)):\n",
    "    \n",
    "    row = table.find_all('tr')[i]\n",
    "    if len(row) == 4:\n",
    "\n",
    "        #getting 'date' data info:\n",
    "        date = row.find_all('td')[0].text\n",
    "        date = date.strip() #to remove excess white space\n",
    "\n",
    "        #getting 'day' data info:\n",
    "        day = row.find_all('td')[1].text\n",
    "        day = day.strip() #to remove excess white space\n",
    "   \n",
    "        #getting 'rate value' data info:\n",
    "        idr = row.find_all('td')[2].text\n",
    "        idr = idr.strip() #to remove excess white space\n",
    "    \n",
    "        #getting 'additional info' data info:\n",
    "        note = row.find_all('td')[3].text\n",
    "        note = note.strip() #to remove excess white space\n",
    " \n",
    "    temp.append((date,day,idr,note)) \n",
    "    \n",
    "temp\n"
   ]
  },
  {
   "cell_type": "markdown",
   "metadata": {},
   "source": [
    "## Creating Pandas Dataframe and Data Wrangling"
   ]
  },
  {
   "cell_type": "markdown",
   "metadata": {},
   "source": [
    "Put the array into dataframe"
   ]
  },
  {
   "cell_type": "code",
   "execution_count": 11,
   "metadata": {
    "ExecuteTime": {
     "end_time": "2020-01-13T05:12:41.517372Z",
     "start_time": "2020-01-13T05:12:29.130015Z"
    },
    "scrolled": true
   },
   "outputs": [
    {
     "data": {
      "text/html": [
       "<div>\n",
       "<style scoped>\n",
       "    .dataframe tbody tr th:only-of-type {\n",
       "        vertical-align: middle;\n",
       "    }\n",
       "\n",
       "    .dataframe tbody tr th {\n",
       "        vertical-align: top;\n",
       "    }\n",
       "\n",
       "    .dataframe thead th {\n",
       "        text-align: right;\n",
       "    }\n",
       "</style>\n",
       "<table border=\"1\" class=\"dataframe\">\n",
       "  <thead>\n",
       "    <tr style=\"text-align: right;\">\n",
       "      <th></th>\n",
       "      <th>date</th>\n",
       "      <th>day</th>\n",
       "      <th>idr</th>\n",
       "      <th>note</th>\n",
       "    </tr>\n",
       "  </thead>\n",
       "  <tbody>\n",
       "    <tr>\n",
       "      <th>0</th>\n",
       "      <td>7/7/2021</td>\n",
       "      <td>Wednesday</td>\n",
       "      <td>14,503.93654 IDR</td>\n",
       "      <td>USD IDR rate for 7/7/2021</td>\n",
       "    </tr>\n",
       "    <tr>\n",
       "      <th>1</th>\n",
       "      <td>7/6/2021</td>\n",
       "      <td>Tuesday</td>\n",
       "      <td>14,469.58258 IDR</td>\n",
       "      <td>USD IDR rate for 7/6/2021</td>\n",
       "    </tr>\n",
       "    <tr>\n",
       "      <th>2</th>\n",
       "      <td>7/5/2021</td>\n",
       "      <td>Monday</td>\n",
       "      <td>14,493.33968 IDR</td>\n",
       "      <td>USD IDR rate for 7/5/2021</td>\n",
       "    </tr>\n",
       "    <tr>\n",
       "      <th>3</th>\n",
       "      <td>7/2/2021</td>\n",
       "      <td>Friday</td>\n",
       "      <td>14,497.65100 IDR</td>\n",
       "      <td>USD IDR rate for 7/2/2021</td>\n",
       "    </tr>\n",
       "    <tr>\n",
       "      <th>4</th>\n",
       "      <td>7/1/2021</td>\n",
       "      <td>Thursday</td>\n",
       "      <td>13,270.37815 IDR</td>\n",
       "      <td>USD IDR rate for 7/1/2021</td>\n",
       "    </tr>\n",
       "    <tr>\n",
       "      <th>5</th>\n",
       "      <td>6/30/2021</td>\n",
       "      <td>Wednesday</td>\n",
       "      <td>14,491.89811 IDR</td>\n",
       "      <td>USD IDR rate for 6/30/2021</td>\n",
       "    </tr>\n",
       "    <tr>\n",
       "      <th>6</th>\n",
       "      <td>6/29/2021</td>\n",
       "      <td>Tuesday</td>\n",
       "      <td>13,215.84052 IDR</td>\n",
       "      <td>USD IDR rate for 6/29/2021</td>\n",
       "    </tr>\n",
       "    <tr>\n",
       "      <th>7</th>\n",
       "      <td>6/28/2021</td>\n",
       "      <td>Monday</td>\n",
       "      <td>14,439.22236 IDR</td>\n",
       "      <td>USD IDR rate for 6/28/2021</td>\n",
       "    </tr>\n",
       "    <tr>\n",
       "      <th>8</th>\n",
       "      <td>6/25/2021</td>\n",
       "      <td>Friday</td>\n",
       "      <td>14,426.82283 IDR</td>\n",
       "      <td>USD IDR rate for 6/25/2021</td>\n",
       "    </tr>\n",
       "    <tr>\n",
       "      <th>9</th>\n",
       "      <td>6/24/2021</td>\n",
       "      <td>Thursday</td>\n",
       "      <td>14,436.21247 IDR</td>\n",
       "      <td>USD IDR rate for 6/24/2021</td>\n",
       "    </tr>\n",
       "  </tbody>\n",
       "</table>\n",
       "</div>"
      ],
      "text/plain": [
       "        date        day               idr                        note\n",
       "0   7/7/2021  Wednesday  14,503.93654 IDR   USD IDR rate for 7/7/2021\n",
       "1   7/6/2021    Tuesday  14,469.58258 IDR   USD IDR rate for 7/6/2021\n",
       "2   7/5/2021     Monday  14,493.33968 IDR   USD IDR rate for 7/5/2021\n",
       "3   7/2/2021     Friday  14,497.65100 IDR   USD IDR rate for 7/2/2021\n",
       "4   7/1/2021   Thursday  13,270.37815 IDR   USD IDR rate for 7/1/2021\n",
       "5  6/30/2021  Wednesday  14,491.89811 IDR  USD IDR rate for 6/30/2021\n",
       "6  6/29/2021    Tuesday  13,215.84052 IDR  USD IDR rate for 6/29/2021\n",
       "7  6/28/2021     Monday  14,439.22236 IDR  USD IDR rate for 6/28/2021\n",
       "8  6/25/2021     Friday  14,426.82283 IDR  USD IDR rate for 6/25/2021\n",
       "9  6/24/2021   Thursday  14,436.21247 IDR  USD IDR rate for 6/24/2021"
      ]
     },
     "execution_count": 11,
     "metadata": {},
     "output_type": "execute_result"
    }
   ],
   "source": [
    "import pandas as pd\n",
    "\n",
    "df = pd.DataFrame(temp, columns = ('date','day','idr','note'))\n",
    "df.head(10)\n"
   ]
  },
  {
   "cell_type": "markdown",
   "metadata": {},
   "source": [
    "Insights:\n",
    "    - The Dataframe above has shown the same information as the source website on www.exchange-rates.org"
   ]
  },
  {
   "cell_type": "markdown",
   "metadata": {},
   "source": [
    "Data Cleansing to convert Date into the proper Data Types:\n"
   ]
  },
  {
   "cell_type": "code",
   "execution_count": 12,
   "metadata": {
    "ExecuteTime": {
     "end_time": "2020-01-13T05:12:59.165559Z",
     "start_time": "2020-01-13T05:12:58.910012Z"
    }
   },
   "outputs": [],
   "source": [
    "df['date'] = pd.to_datetime(df['date'])\n",
    "df['month'] = df['date'].dt.month_name()\n"
   ]
  },
  {
   "cell_type": "markdown",
   "metadata": {},
   "source": [
    "Omitting 'IDR' on Exchange Rates:"
   ]
  },
  {
   "cell_type": "code",
   "execution_count": 13,
   "metadata": {},
   "outputs": [
    {
     "data": {
      "text/html": [
       "<div>\n",
       "<style scoped>\n",
       "    .dataframe tbody tr th:only-of-type {\n",
       "        vertical-align: middle;\n",
       "    }\n",
       "\n",
       "    .dataframe tbody tr th {\n",
       "        vertical-align: top;\n",
       "    }\n",
       "\n",
       "    .dataframe thead th {\n",
       "        text-align: right;\n",
       "    }\n",
       "</style>\n",
       "<table border=\"1\" class=\"dataframe\">\n",
       "  <thead>\n",
       "    <tr style=\"text-align: right;\">\n",
       "      <th></th>\n",
       "      <th>date</th>\n",
       "      <th>day</th>\n",
       "      <th>idr</th>\n",
       "      <th>note</th>\n",
       "      <th>month</th>\n",
       "    </tr>\n",
       "  </thead>\n",
       "  <tbody>\n",
       "    <tr>\n",
       "      <th>0</th>\n",
       "      <td>2021-07-07</td>\n",
       "      <td>Wednesday</td>\n",
       "      <td>14503.93654</td>\n",
       "      <td>USD IDR rate for 7/7/2021</td>\n",
       "      <td>July</td>\n",
       "    </tr>\n",
       "    <tr>\n",
       "      <th>1</th>\n",
       "      <td>2021-07-06</td>\n",
       "      <td>Tuesday</td>\n",
       "      <td>14469.58258</td>\n",
       "      <td>USD IDR rate for 7/6/2021</td>\n",
       "      <td>July</td>\n",
       "    </tr>\n",
       "    <tr>\n",
       "      <th>2</th>\n",
       "      <td>2021-07-05</td>\n",
       "      <td>Monday</td>\n",
       "      <td>14493.33968</td>\n",
       "      <td>USD IDR rate for 7/5/2021</td>\n",
       "      <td>July</td>\n",
       "    </tr>\n",
       "    <tr>\n",
       "      <th>3</th>\n",
       "      <td>2021-07-02</td>\n",
       "      <td>Friday</td>\n",
       "      <td>14497.65100</td>\n",
       "      <td>USD IDR rate for 7/2/2021</td>\n",
       "      <td>July</td>\n",
       "    </tr>\n",
       "    <tr>\n",
       "      <th>4</th>\n",
       "      <td>2021-07-01</td>\n",
       "      <td>Thursday</td>\n",
       "      <td>13270.37815</td>\n",
       "      <td>USD IDR rate for 7/1/2021</td>\n",
       "      <td>July</td>\n",
       "    </tr>\n",
       "  </tbody>\n",
       "</table>\n",
       "</div>"
      ],
      "text/plain": [
       "        date        day          idr                       note month\n",
       "0 2021-07-07  Wednesday  14503.93654  USD IDR rate for 7/7/2021  July\n",
       "1 2021-07-06    Tuesday  14469.58258  USD IDR rate for 7/6/2021  July\n",
       "2 2021-07-05     Monday  14493.33968  USD IDR rate for 7/5/2021  July\n",
       "3 2021-07-02     Friday  14497.65100  USD IDR rate for 7/2/2021  July\n",
       "4 2021-07-01   Thursday  13270.37815  USD IDR rate for 7/1/2021  July"
      ]
     },
     "execution_count": 13,
     "metadata": {},
     "output_type": "execute_result"
    }
   ],
   "source": [
    "df['idr'] = df['idr'].str.replace(\" IDR\",\"\")\n",
    "df['idr'] = df['idr'].str.replace(\",\",\"\")\n",
    "df.head()\n"
   ]
  },
  {
   "cell_type": "code",
   "execution_count": 14,
   "metadata": {
    "scrolled": true
   },
   "outputs": [
    {
     "data": {
      "text/html": [
       "<div>\n",
       "<style scoped>\n",
       "    .dataframe tbody tr th:only-of-type {\n",
       "        vertical-align: middle;\n",
       "    }\n",
       "\n",
       "    .dataframe tbody tr th {\n",
       "        vertical-align: top;\n",
       "    }\n",
       "\n",
       "    .dataframe thead th {\n",
       "        text-align: right;\n",
       "    }\n",
       "</style>\n",
       "<table border=\"1\" class=\"dataframe\">\n",
       "  <thead>\n",
       "    <tr style=\"text-align: right;\">\n",
       "      <th></th>\n",
       "      <th>date</th>\n",
       "      <th>day</th>\n",
       "      <th>idr</th>\n",
       "      <th>note</th>\n",
       "      <th>month</th>\n",
       "    </tr>\n",
       "  </thead>\n",
       "  <tbody>\n",
       "    <tr>\n",
       "      <th>0</th>\n",
       "      <td>2021-07-07</td>\n",
       "      <td>Wednesday</td>\n",
       "      <td>14503.94</td>\n",
       "      <td>USD IDR rate for 7/7/2021</td>\n",
       "      <td>July</td>\n",
       "    </tr>\n",
       "    <tr>\n",
       "      <th>1</th>\n",
       "      <td>2021-07-06</td>\n",
       "      <td>Tuesday</td>\n",
       "      <td>14469.58</td>\n",
       "      <td>USD IDR rate for 7/6/2021</td>\n",
       "      <td>July</td>\n",
       "    </tr>\n",
       "    <tr>\n",
       "      <th>2</th>\n",
       "      <td>2021-07-05</td>\n",
       "      <td>Monday</td>\n",
       "      <td>14493.34</td>\n",
       "      <td>USD IDR rate for 7/5/2021</td>\n",
       "      <td>July</td>\n",
       "    </tr>\n",
       "    <tr>\n",
       "      <th>3</th>\n",
       "      <td>2021-07-02</td>\n",
       "      <td>Friday</td>\n",
       "      <td>14497.65</td>\n",
       "      <td>USD IDR rate for 7/2/2021</td>\n",
       "      <td>July</td>\n",
       "    </tr>\n",
       "    <tr>\n",
       "      <th>4</th>\n",
       "      <td>2021-07-01</td>\n",
       "      <td>Thursday</td>\n",
       "      <td>13270.38</td>\n",
       "      <td>USD IDR rate for 7/1/2021</td>\n",
       "      <td>July</td>\n",
       "    </tr>\n",
       "  </tbody>\n",
       "</table>\n",
       "</div>"
      ],
      "text/plain": [
       "        date        day       idr                       note month\n",
       "0 2021-07-07  Wednesday  14503.94  USD IDR rate for 7/7/2021  July\n",
       "1 2021-07-06    Tuesday  14469.58  USD IDR rate for 7/6/2021  July\n",
       "2 2021-07-05     Monday  14493.34  USD IDR rate for 7/5/2021  July\n",
       "3 2021-07-02     Friday  14497.65  USD IDR rate for 7/2/2021  July\n",
       "4 2021-07-01   Thursday  13270.38  USD IDR rate for 7/1/2021  July"
      ]
     },
     "execution_count": 14,
     "metadata": {},
     "output_type": "execute_result"
    }
   ],
   "source": [
    "df['idr'] = df['idr'].astype('float64').round(2)\n",
    "df.head()"
   ]
  },
  {
   "cell_type": "markdown",
   "metadata": {},
   "source": [
    "## Data Visualization\n",
    "\n",
    "Data visualization of Dataframe:"
   ]
  },
  {
   "cell_type": "code",
   "execution_count": 15,
   "metadata": {},
   "outputs": [],
   "source": [
    "df = df.set_index('date')"
   ]
  },
  {
   "cell_type": "code",
   "execution_count": 16,
   "metadata": {
    "scrolled": true
   },
   "outputs": [
    {
     "data": {
      "text/plain": [
       "<AxesSubplot:xlabel='date'>"
      ]
     },
     "execution_count": 16,
     "metadata": {},
     "output_type": "execute_result"
    },
    {
     "data": {
      "image/png": "[encoded data removed]",
      "text/plain": [
       "<Figure size 432x288 with 1 Axes>"
      ]
     },
     "metadata": {
      "needs_background": "light"
     },
     "output_type": "display_data"
    }
   ],
   "source": [
    "df.plot()"
   ]
  },
  {
   "cell_type": "markdown",
   "metadata": {},
   "source": []
  },
  {
   "cell_type": "markdown",
   "metadata": {},
   "source": [
    "### Implementing your webscrapping to the flask dashboard\n",
    "\n",
    "- Copy paste all of your web scrapping process to the desired position on the `app.py`\n",
    "- Changing the title of the dasboard at `index.html`"
   ]
  },
  {
   "cell_type": "markdown",
   "metadata": {
    "ExecuteTime": {
     "end_time": "2020-01-13T05:20:56.208237Z",
     "start_time": "2020-01-13T05:20:56.076043Z"
    }
   },
   "source": [
    "## Analysis and Conclusion"
   ]
  },
  {
   "cell_type": "code",
   "execution_count": 17,
   "metadata": {
    "scrolled": true
   },
   "outputs": [
    {
     "name": "stderr",
     "output_type": "stream",
     "text": [
      "C:\\ProgramData\\Anaconda3\\envs\\da_capstone\\lib\\site-packages\\pandas\\plotting\\_matplotlib\\core.py:1182: UserWarning: FixedFormatter should only be used together with FixedLocator\n",
      "  ax.set_xticklabels(xticklabels)\n"
     ]
    },
    {
     "data": {
      "text/plain": [
       "<AxesSubplot:xlabel='month'>"
      ]
     },
     "execution_count": 17,
     "metadata": {},
     "output_type": "execute_result"
    },
    {
     "data": {
      "image/png": "[encoded data removed]",
      "text/plain": [
       "<Figure size 432x288 with 1 Axes>"
      ]
     },
     "metadata": {
      "needs_background": "light"
     },
     "output_type": "display_data"
    }
   ],
   "source": [
    "df.groupby('month').mean().plot()\n"
   ]
  },
  {
   "cell_type": "code",
   "execution_count": 18,
   "metadata": {},
   "outputs": [
    {
     "name": "stderr",
     "output_type": "stream",
     "text": [
      "C:\\ProgramData\\Anaconda3\\envs\\da_capstone\\lib\\site-packages\\pandas\\plotting\\_matplotlib\\core.py:1182: UserWarning: FixedFormatter should only be used together with FixedLocator\n",
      "  ax.set_xticklabels(xticklabels)\n"
     ]
    },
    {
     "data": {
      "text/plain": [
       "<AxesSubplot:xlabel='day'>"
      ]
     },
     "execution_count": 18,
     "metadata": {},
     "output_type": "execute_result"
    },
    {
     "data": {
      "image/png": "[encoded data removed]",
      "text/plain": [
       "<Figure size 432x288 with 1 Axes>"
      ]
     },
     "metadata": {
      "needs_background": "light"
     },
     "output_type": "display_data"
    }
   ],
   "source": [
    "df.groupby('day').mean().plot()"
   ]
  },
  {
   "cell_type": "markdown",
   "metadata": {},
   "source": [
    "\n",
    "From the graph above, it can be concluded that :\n",
    "- The exchange rates between the Indonesian Rupiah (IDR) and the US Dollar (USD) are relatively stable at range around 13900 up to 14600, except on July 2021 where the rates shows some inconsistency. Further analysis are needed especially when certain external factors are affecting the exchanges rates.\n",
    "- February has relatively lower exchange rates average compared to other months, where April and March usually shows a relatively higher average excvhange rates.\n",
    "- On average, Tuesday is considered having the lowest average on exchange rates, where Wednesday and Friday are among the highest average of exchange rates.\n"
   ]
  },
  {
   "cell_type": "markdown",
   "metadata": {},
   "source": [
    "### Extra Challange\n",
    "\n",
    "This will be not included to the scoring. \n",
    "\n",
    "- You can create additional analysis from the data.\n",
    "- Implement it to the dashboard with at `app.py` dan `index.html`."
   ]
  }
 ],
 "metadata": {
  "kernelspec": {
   "display_name": "da_capstone",
   "language": "python",
   "name": "da_capstone"
  },
  "language_info": {
   "codemirror_mode": {
    "name": "ipython",
    "version": 3
   },
   "file_extension": ".py",
   "mimetype": "text/x-python",
   "name": "python",
   "nbconvert_exporter": "python",
   "pygments_lexer": "ipython3",
   "version": "3.8.10"
  }
 },
 "nbformat": 4,
 "nbformat_minor": 2
}
